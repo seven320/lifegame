{
 "cells": [
  {
   "cell_type": "markdown",
   "metadata": {},
   "source": [
    "tiffファイルから読み込んだデータの白黒の割合を数値化する"
   ]
  },
  {
   "cell_type": "code",
   "execution_count": 19,
   "metadata": {},
   "outputs": [
    {
     "name": "stdout",
     "output_type": "stream",
     "text": [
      "(1280, 960) TIFF L\n",
      "[12533, 1698, 1945, 2208, 2223, 2471, 2636, 2840, 2963, 3242, 3430, 3632, 4000, 4246, 4500, 4700, 5146, 5188, 5441, 5636, 5807, 6069, 6093, 6552, 6631, 6960, 7535, 7594, 7971, 8034, 8172, 8277, 8513, 8976, 9106, 9239, 9690, 10046, 10363, 10523, 10573, 10996, 10934, 11361, 11830, 12408, 12675, 13757, 14661, 16980, 23094, 24904, 25873, 24938, 22407, 18785, 14558, 10588, 7400, 4892, 3141, 2149, 1308, 854, 629, 440, 395, 319, 288, 274, 270, 272, 254, 261, 257, 264, 219, 231, 255, 273, 238, 268, 233, 235, 218, 200, 241, 231, 280, 224, 228, 239, 227, 245, 230, 236, 229, 246, 216, 228, 259, 225, 248, 200, 227, 211, 204, 243, 232, 217, 222, 242, 233, 193, 217, 228, 253, 221, 226, 230, 248, 245, 243, 237, 255, 237, 232, 214, 219, 243, 237, 230, 236, 261, 236, 270, 271, 246, 256, 232, 261, 271, 275, 288, 242, 293, 290, 297, 294, 301, 298, 308, 297, 320, 378, 346, 374, 380, 407, 419, 437, 450, 471, 463, 483, 516, 519, 532, 615, 567, 624, 638, 614, 698, 749, 741, 805, 762, 855, 892, 918, 957, 954, 1058, 1022, 1202, 1188, 1311, 1332, 1404, 1482, 1629, 1732, 1871, 2017, 2277, 2498, 2801, 3051, 3435, 3789, 4194, 4727, 5420, 6719, 8204, 10540, 13670, 17088, 21075, 25061, 37175, 51792, 36957, 20561, 12146, 9411, 7885, 7237, 6863, 6473, 6073, 5880, 5690, 5729, 5651, 5683, 5952, 6128, 6305, 6488, 6727, 7055, 7290, 7637, 7478, 7491, 7642, 7478, 7519, 7339, 7403, 6987, 6666, 6364, 6260, 5924, 5535, 5233, 5058, 4655, 4479, 4492, 4238, 3818, 75690]\n"
     ]
    },
    {
     "data": {
      "image/png": "[encoded data removed]",
      "text/plain": [
       "<matplotlib.figure.Figure at 0x11beafa58>"
      ]
     },
     "metadata": {},
     "output_type": "display_data"
    },
    {
     "name": "stdout",
     "output_type": "stream",
     "text": [
      "black ratio: 0.18957194010416667\n"
     ]
    }
   ],
   "source": [
    "#encoding utf-8\n",
    "\n",
    "from PIL import Image, ImageFilter\n",
    "import numpy as np\n",
    "import cv2\n",
    "import matplotlib.pyplot as plt\n",
    "\n",
    "# IMAGE_PATH=\"/Users/kenkato/python/lifegame/black.png\"\n",
    "IMAGE_PATH=\"/Users/kenkato/python/lifegame/exam.tif\"\n",
    "#この画像のモード：L (8-bit pixels, black and white)\n",
    "\n",
    "\n",
    "image = Image.open(IMAGE_PATH)\n",
    "# image.show()\n",
    "print(image.size, image.format, image.mode)\n",
    "\n",
    "max_pix = 0\n",
    "width, heigt = image.size\n",
    "black_pix = 0\n",
    "\n",
    "\n",
    "# min_pix = 255\n",
    "# for x in range(100):\n",
    "#     for y in range(100):\n",
    "#         min_pix = min(image.getpixel((x+600, y+400)), min_pix)\n",
    "# print(min_pix,)\n",
    "\n",
    "ratio_list = [0]*256\n",
    "\n",
    "for x in range(width):\n",
    "    for y in range(heigt):\n",
    "        pixel = image.getpixel((x, y))\n",
    "        ratio_list[pixel] += 1\n",
    "        if pixel >= 230:\n",
    "            black_pix += 1\n",
    "print(ratio_list)\n",
    "plt.plot(ratio_list)\n",
    "plt.show()\n",
    "            \n",
    "print(\"black ratio:\",black_pix/(width*heigt))\n",
    "# print(max_pix)\n",
    "        \n",
    "\n",
    "# from PIL import ImageStat\n",
    "\n",
    "# stat = ImageStat.Stat(image)\n",
    "# print(\"pixel num:\", stat.count)\n",
    "# print ('pixel sum:', stat.sum)\n",
    "# print ('pixel mean:', stat.mean)\n",
    "# print ('pixel variance（分散）:', stat.var)\n",
    "# print ('pixel stddev（標準偏差）:', stat.stddev)\n"
   ]
  },
  {
   "cell_type": "code",
   "execution_count": 34,
   "metadata": {
    "scrolled": true
   },
   "outputs": [
    {
     "ename": "TypeError",
     "evalue": "'int' object is not callable",
     "output_type": "error",
     "traceback": [
      "\u001b[0;31m---------------------------------------------------------------------------\u001b[0m",
      "\u001b[0;31mTypeError\u001b[0m                                 Traceback (most recent call last)",
      "\u001b[0;32m<ipython-input-34-b45a781a5f84>\u001b[0m in \u001b[0;36m<module>\u001b[0;34m()\u001b[0m\n\u001b[0;32m----> 1\u001b[0;31m \u001b[0mmax\u001b[0m\u001b[0;34m(\u001b[0m\u001b[0;34m[\u001b[0m\u001b[0;36m2\u001b[0m\u001b[0;34m,\u001b[0m\u001b[0;36m4\u001b[0m\u001b[0;34m]\u001b[0m\u001b[0;34m)\u001b[0m\u001b[0;34m\u001b[0m\u001b[0m\n\u001b[0m",
      "\u001b[0;31mTypeError\u001b[0m: 'int' object is not callable"
     ]
    }
   ],
   "source": [
    "max([2,4])\n"
   ]
  },
  {
   "cell_type": "code",
   "execution_count": null,
   "metadata": {},
   "outputs": [],
   "source": []
  }
 ],
 "metadata": {
  "kernelspec": {
   "display_name": "Python 3",
   "language": "python",
   "name": "python3"
  },
  "language_info": {
   "codemirror_mode": {
    "name": "ipython",
    "version": 3
   },
   "file_extension": ".py",
   "mimetype": "text/x-python",
   "name": "python",
   "nbconvert_exporter": "python",
   "pygments_lexer": "ipython3",
   "version": "3.6.4rc1"
  }
 },
 "nbformat": 4,
 "nbformat_minor": 2
}
